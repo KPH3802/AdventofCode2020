{
 "cells": [
  {
   "cell_type": "markdown",
   "metadata": {},
   "source": [
    "# Advent of Code Day 2"
   ]
  },
  {
   "cell_type": "markdown",
   "metadata": {},
   "source": [
    "### Part 1"
   ]
  },
  {
   "cell_type": "markdown",
   "metadata": {},
   "source": [
    "Your flight departs in a few days from the coastal airport; the easiest way down to the coast from here is via toboggan.\n",
    "\n",
    "The shopkeeper at the North Pole Toboggan Rental Shop is having a bad day. \"Something's wrong with our computers; we can't log in!\" You ask if you can take a look.\n",
    "\n",
    "Their password database seems to be a little corrupted: some of the passwords wouldn't have been allowed by the Official Toboggan Corporate Policy that was in effect when they were chosen.\n",
    "\n",
    "To try to debug the problem, they have created a list (your puzzle input) of passwords (according to the corrupted database) and the corporate policy when that password was set.\n",
    "\n",
    "For example, suppose you have the following list:"
   ]
  },
  {
   "cell_type": "markdown",
   "metadata": {},
   "source": [
    "```\n",
    "1-3 a: abcde\n",
    "1-3 b: cdefg\n",
    "2-9 c: ccccccccc\n",
    "\n",
    "```"
   ]
  },
  {
   "cell_type": "markdown",
   "metadata": {},
   "source": [
    "Each line gives the password policy and then the password. The password policy indicates the lowest and highest number of times a given letter must appear for the password to be valid. For example, 1-3 a means that the password must contain a at least 1 time and at most 3 times.\n",
    "\n",
    "In the above example, 2 passwords are valid. The middle password, cdefg, is not; it contains no instances of b, but needs at least 1. The first and third passwords are valid: they contain one a or nine c, both within the limits of their respective policies.\n",
    "\n",
    "How many passwords are valid according to their policies?"
   ]
  },
  {
   "cell_type": "markdown",
   "metadata": {},
   "source": [
    "### Practice:"
   ]
  },
  {
   "cell_type": "code",
   "execution_count": 60,
   "metadata": {},
   "outputs": [
    {
     "name": "stdout",
     "output_type": "stream",
     "text": [
      "2\n"
     ]
    }
   ],
   "source": [
    "lst = [\"1-3 a: abcde\",\n",
    "\"1-3 b: cdefg\",\n",
    "\"2-9 c: ccccccccc\"]\n",
    "passwordGood = 0\n",
    "for i in lst:\n",
    "    j = i.split(\":\")\n",
    "    password = j[1]\n",
    "    letter = j[0].split(' ')[1]\n",
    "    nums = (i.split(' ')[0])\n",
    "    min_num = int((nums.split('-'[0])[0]))\n",
    "    max_num = int((nums.split('-'[0])[1]))\n",
    "    if password.count(letter) >= min_num and password.count(letter) <= max_num:\n",
    "        passwordGood += 1\n",
    "    else:\n",
    "        pass\n",
    "print(passwordGood)"
   ]
  },
  {
   "cell_type": "markdown",
   "metadata": {},
   "source": [
    "### Answer:"
   ]
  },
  {
   "cell_type": "code",
   "execution_count": 59,
   "metadata": {},
   "outputs": [
    {
     "name": "stdout",
     "output_type": "stream",
     "text": [
      "591\n"
     ]
    }
   ],
   "source": [
    "passwordGood = 0\n",
    "file = open(\"InputResources/input.txt\") \n",
    "for line in file: \n",
    "    j = line.split(\":\")\n",
    "    password = j[1]\n",
    "    letter = j[0].split(' ')[1]\n",
    "    nums = (j[0].split(' ')[0])\n",
    "    min_num = int((nums.split('-'[0])[0]))\n",
    "    max_num = int((nums.split('-'[0])[1]))\n",
    "    if password.count(letter) >= min_num and password.count(letter) <= max_num:\n",
    "        passwordGood += 1\n",
    "    else:\n",
    "        pass\n",
    "print(passwordGood)"
   ]
  },
  {
   "cell_type": "markdown",
   "metadata": {},
   "source": [
    "### Part 2"
   ]
  },
  {
   "cell_type": "markdown",
   "metadata": {},
   "source": [
    "While it appears you validated the passwords correctly, they don't seem to be what the Official Toboggan Corporate Authentication System is expecting.\n",
    "\n",
    "The shopkeeper suddenly realizes that he just accidentally explained the password policy rules from his old job at the sled rental place down the street! The Official Toboggan Corporate Policy actually works a little differently.\n",
    "\n",
    "Each policy actually describes two positions in the password, where 1 means the first character, 2 means the second character, and so on. (Be careful; Toboggan Corporate Policies have no concept of \"index zero\"!) Exactly one of these positions must contain the given letter. Other occurrences of the letter are irrelevant for the purposes of policy enforcement.\n",
    "\n",
    "Given the same example list from above:\n",
    "\n",
    "1-3 a: abcde is valid: position 1 contains a and position 3 does not.\n",
    "1-3 b: cdefg is invalid: neither position 1 nor position 3 contains b.\n",
    "2-9 c: ccccccccc is invalid: both position 2 and position 9 contain c.\n",
    "How many passwords are valid according to the new interpretation of the policies?"
   ]
  },
  {
   "cell_type": "markdown",
   "metadata": {},
   "source": [
    "### Practice:"
   ]
  },
  {
   "cell_type": "code",
   "execution_count": 65,
   "metadata": {},
   "outputs": [
    {
     "name": "stdout",
     "output_type": "stream",
     "text": [
      "1\n"
     ]
    }
   ],
   "source": [
    "lst = [\"1-3 a: abcde\",\n",
    "\"1-3 b: cdefg\",\n",
    "\"2-9 c: ccccccccc\"]\n",
    "passwordGood = 0\n",
    "for i in lst:\n",
    "    j = i.split(\": \")\n",
    "    password = j[1]\n",
    "    lstpass = list(password)\n",
    "    letter = j[0].split(' ')[1]\n",
    "    nums = (i.split(' ')[0])\n",
    "    min_num = int((nums.split('-'[0])[0]))\n",
    "    max_num = int((nums.split('-'[0])[1]))\n",
    "    if lstpass[min_num] == letter or lstpass[max_num] == letter:\n",
    "        passwordGood += 1\n",
    "    else:\n",
    "        pass\n",
    "print(passwordGood)"
   ]
  },
  {
   "cell_type": "code",
   "execution_count": 74,
   "metadata": {},
   "outputs": [
    {
     "name": "stdout",
     "output_type": "stream",
     "text": [
      "335\n"
     ]
    }
   ],
   "source": [
    "passwordGood = 0\n",
    "file = open(\"InputResources/input.txt\") \n",
    "for line in file: \n",
    "    j = line.split(\": \")\n",
    "    password = j[1]\n",
    "    lstpass = list(password)\n",
    "    letter = j[0].split(' ')[1]\n",
    "    nums = (j[0].split(' ')[0])\n",
    "    min_num = int((nums.split('-'[0])[0]))\n",
    "    max_num = int((nums.split('-'[0])[1]))\n",
    "    if (lstpass[max_num-1] == letter) != (lstpass[min_num-1] == letter):\n",
    "        passwordGood += 1\n",
    "    else:\n",
    "        pass\n",
    "print(passwordGood)"
   ]
  },
  {
   "cell_type": "code",
   "execution_count": null,
   "metadata": {},
   "outputs": [],
   "source": []
  }
 ],
 "metadata": {
  "kernelspec": {
   "display_name": "FinTech",
   "language": "python",
   "name": "fintech"
  },
  "language_info": {
   "codemirror_mode": {
    "name": "ipython",
    "version": 3
   },
   "file_extension": ".py",
   "mimetype": "text/x-python",
   "name": "python",
   "nbconvert_exporter": "python",
   "pygments_lexer": "ipython3",
   "version": "3.8.5"
  }
 },
 "nbformat": 4,
 "nbformat_minor": 4
}
